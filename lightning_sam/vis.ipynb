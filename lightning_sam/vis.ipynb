{
 "cells": [
  {
   "cell_type": "code",
   "execution_count": 3,
   "id": "3fc02b4f",
   "metadata": {},
   "outputs": [],
   "source": [
    "import sys\n",
    "path = \"/home/someone/stage_jonathan/lightning-sam/lightning-sam/l_sam_env/lib/python3.10/site-packages\"\n",
    "\n",
    "if path not in sys.path: sys.path.append(path)\n",
    "\n",
    "path2 = \"/usr/lib/python3/dist-packages\"\n",
    "\n",
    "if path2 not in sys.path: sys.path.append(path2)"
   ]
  },
  {
   "cell_type": "code",
   "execution_count": 70,
   "id": "80dc23e7",
   "metadata": {
    "scrolled": true
   },
   "outputs": [],
   "source": [
    "import os\n",
    "import time\n",
    "from accelerate import Accelerator \n",
    "from accelerate.utils import set_seed\n",
    "\n",
    "\n",
    "import torch\n",
    "import torch.nn.functional as F\n",
    "from box import Box\n",
    "from config import cfg\n",
    "from dataset import load_datasets\n",
    "from losses import DiceLoss\n",
    "from losses import FocalLoss\n",
    "from new_model import Model\n",
    "from segment_anything import sam_model_registry, SamAutomaticMaskGenerator\n",
    "from segment_anything.modeling import Sam\n",
    "from torch.utils.data import DataLoader\n",
    "from utils import AverageMeter\n",
    "from utils import calc_iou\n",
    "from tqdm import tqdm\n",
    "import numpy as np\n",
    "\n",
    "import matplotlib.pyplot as plt\n",
    "\n",
    "\n",
    "def show_anns(anns,ax):\n",
    "    if len(anns) == 0:\n",
    "        return\n",
    "    sorted_anns = sorted(anns, key=(lambda x: x['area']), reverse=True)\n",
    "    ax = plt.gca()\n",
    "    ax.set_autoscale_on(False)\n",
    "\n",
    "    img = np.ones((sorted_anns[0]['segmentation'].shape[0], sorted_anns[0]['segmentation'].shape[1], 4))\n",
    "    img[:,:,3] = 0\n",
    "    for ann in sorted_anns:\n",
    "        m = ann['segmentation']\n",
    "        color_mask = np.concatenate([np.random.random(3), [0.35]])\n",
    "        img[m] = color_mask\n",
    "    ax.imshow(img)           \n",
    "\n",
    "def main(cfg):\n",
    "    \n",
    "    sam_model = sam_model_registry[cfg.model.type](checkpoint=cfg.model.checkpoint)\n",
    "\n",
    "    path = \"/home/someone/stage_jonathan/lightning-sam/lightning-sam/lightning_sam/out/training/mask_decoder2_epochs.pth\"\n",
    "\n",
    "    path = \"/home/someone/stage_jonathan/lightning-sam/lightning-sam/lightning_sam/out/training/mask_decoder1_epochs.pth\"\n",
    "\n",
    "    new_mask_decoder = torch.load(path,) # map_location=torch.device('cpu'))\n",
    "\n",
    "    sam_model.mask_decoder.load_state_dict(new_mask_decoder)\n",
    "\n",
    "    sam_model = setup_sam(sam_model,cfg)\n",
    "\n",
    "    model = SamAutomaticMaskGenerator(sam_model,)\n",
    "\n",
    "    model.predictor.model.to(torch.device(\"cuda\"))\n",
    "    \n",
    "    train_data, val_data = load_datasets(cfg, 1024) # hardcoded img size\n",
    "    \n",
    "    return model, val_data\n",
    "    \n",
    "    \n",
    "    "
   ]
  },
  {
   "cell_type": "code",
   "execution_count": 67,
   "id": "c4f8cb99",
   "metadata": {},
   "outputs": [],
   "source": [
    "cfg.batch_size = 1\n",
    "cfg.nb_annot = 2"
   ]
  },
  {
   "cell_type": "code",
   "execution_count": 60,
   "id": "5fe75498",
   "metadata": {},
   "outputs": [],
   "source": [
    "del sam_model, val_data"
   ]
  },
  {
   "cell_type": "code",
   "execution_count": 71,
   "id": "740d063e",
   "metadata": {
    "scrolled": false
   },
   "outputs": [
    {
     "name": "stdout",
     "output_type": "stream",
     "text": [
      "loading annotations into memory...\n",
      "Done (t=0.45s)\n",
      "creating index...\n",
      "index created!\n"
     ]
    },
    {
     "name": "stderr",
     "output_type": "stream",
     "text": [
      "100%|█████████████████████████████████████████████████████████████████████████████████████████████████████████████████████████████████████████████████████████████████████████████████████████████████████████████████████| 6065/6065 [00:00<00:00, 12289.18it/s]\n"
     ]
    },
    {
     "name": "stdout",
     "output_type": "stream",
     "text": [
      "Total images: 5936\n",
      "loading annotations into memory...\n",
      "Done (t=0.13s)\n",
      "creating index...\n",
      "index created!\n"
     ]
    },
    {
     "name": "stderr",
     "output_type": "stream",
     "text": [
      "100%|█████████████████████████████████████████████████████████████████████████████████████████████████████████████████████████████████████████████████████████████████████████████████████████████████████████████████████| 1147/1147 [00:00<00:00, 51838.44it/s]"
     ]
    },
    {
     "name": "stdout",
     "output_type": "stream",
     "text": [
      "Total images: 1147\n"
     ]
    },
    {
     "name": "stderr",
     "output_type": "stream",
     "text": [
      "\n"
     ]
    }
   ],
   "source": [
    "%matplotlib inline\n",
    "sam_model, val_data = main(cfg)"
   ]
  },
  {
   "cell_type": "code",
   "execution_count": 72,
   "id": "37ea9722",
   "metadata": {},
   "outputs": [],
   "source": [
    "torch.cuda.empty_cache()"
   ]
  },
  {
   "cell_type": "code",
   "execution_count": 76,
   "id": "43cc69a5",
   "metadata": {},
   "outputs": [],
   "source": [
    "image, _, _, gt_masks = next(iter(val_data))"
   ]
  },
  {
   "cell_type": "code",
   "execution_count": 87,
   "id": "42a16faa",
   "metadata": {},
   "outputs": [],
   "source": [
    "image[0].shape\n",
    "image_numpy = (255*image[0]).cpu().numpy().transpose(1,2,0).astype(np.uint8)"
   ]
  },
  {
   "cell_type": "code",
   "execution_count": 88,
   "id": "c48a2233",
   "metadata": {},
   "outputs": [
    {
     "data": {
      "text/plain": [
       "<matplotlib.image.AxesImage at 0x7f245094a3e0>"
      ]
     },
     "execution_count": 88,
     "metadata": {},
     "output_type": "execute_result"
    },
    {
     "data": {
      "image/png": "[encoded data removed]",
      "text/plain": [
       "<Figure size 432x288 with 1 Axes>"
      ]
     },
     "metadata": {
      "needs_background": "light"
     },
     "output_type": "display_data"
    }
   ],
   "source": [
    "plt.imshow(image_numpy)"
   ]
  }
 ],
 "metadata": {
  "kernelspec": {
   "display_name": "Python 3 (ipykernel)",
   "language": "python",
   "name": "python3"
  },
  "language_info": {
   "codemirror_mode": {
    "name": "ipython",
    "version": 3
   },
   "file_extension": ".py",
   "mimetype": "text/x-python",
   "name": "python",
   "nbconvert_exporter": "python",
   "pygments_lexer": "ipython3",
   "version": "3.10.7"
  }
 },
 "nbformat": 4,
 "nbformat_minor": 5
}
