{
 "cells": [
  {
   "cell_type": "code",
   "execution_count": 1,
   "id": "2db4b5e3",
   "metadata": {},
   "outputs": [],
   "source": [
    "import sys\n",
    "path = \"/home/someone/stage_jonathan/lightning-sam/lightning-sam/l_sam_env/lib/python3.10/site-packages\"\n",
    "\n",
    "if path not in sys.path: sys.path.append(path)\n",
    "\n",
    "path2 = \"/usr/lib/python3/dist-packages\"\n",
    "\n",
    "if path2 not in sys.path: sys.path.append(path2)"
   ]
  },
  {
   "cell_type": "code",
   "execution_count": 3,
   "id": "6412a96c",
   "metadata": {},
   "outputs": [],
   "source": [
    "import pandas as pd\n",
    "import os"
   ]
  },
  {
   "cell_type": "code",
   "execution_count": 11,
   "id": "43686c8e",
   "metadata": {},
   "outputs": [
    {
     "data": {
      "text/plain": [
       "['HAM10000_images_part_2',\n",
       " 'ISIC2018_Task3_Test_GroundTruth.csv',\n",
       " 'HAM10000_segmentations_lesion_tschandl',\n",
       " 'ISIC2018_Task3_Test_NatureMedicine_AI_Interaction_Benefit.csv',\n",
       " 'HAM10000_metadata',\n",
       " 'ISIC2018_Task3_Test_Images',\n",
       " 'HAM10000_images_part_1']"
      ]
     },
     "execution_count": 11,
     "metadata": {},
     "output_type": "execute_result"
    }
   ],
   "source": [
    "file_path = \"/mnt/data/dataverse_files/\"\n",
    "os.listdir(file_path)"
   ]
  },
  {
   "cell_type": "code",
   "execution_count": 17,
   "id": "b3228482",
   "metadata": {},
   "outputs": [
    {
     "data": {
      "text/html": [
       "<div>\n",
       "<style scoped>\n",
       "    .dataframe tbody tr th:only-of-type {\n",
       "        vertical-align: middle;\n",
       "    }\n",
       "\n",
       "    .dataframe tbody tr th {\n",
       "        vertical-align: top;\n",
       "    }\n",
       "\n",
       "    .dataframe thead th {\n",
       "        text-align: right;\n",
       "    }\n",
       "</style>\n",
       "<table border=\"1\" class=\"dataframe\">\n",
       "  <thead>\n",
       "    <tr style=\"text-align: right;\">\n",
       "      <th></th>\n",
       "      <th>lesion_id</th>\n",
       "      <th>image_id</th>\n",
       "      <th>dx</th>\n",
       "      <th>dx_type</th>\n",
       "      <th>age</th>\n",
       "      <th>sex</th>\n",
       "      <th>localization</th>\n",
       "      <th>dataset</th>\n",
       "    </tr>\n",
       "  </thead>\n",
       "  <tbody>\n",
       "    <tr>\n",
       "      <th>0</th>\n",
       "      <td>HAMTEST_0000000</td>\n",
       "      <td>ISIC_0034524</td>\n",
       "      <td>nv</td>\n",
       "      <td>follow_up</td>\n",
       "      <td>40.0</td>\n",
       "      <td>female</td>\n",
       "      <td>back</td>\n",
       "      <td>vidir_molemax</td>\n",
       "    </tr>\n",
       "    <tr>\n",
       "      <th>1</th>\n",
       "      <td>HAMTEST_0000001</td>\n",
       "      <td>ISIC_0034525</td>\n",
       "      <td>nv</td>\n",
       "      <td>histo</td>\n",
       "      <td>70.0</td>\n",
       "      <td>male</td>\n",
       "      <td>abdomen</td>\n",
       "      <td>rosendahl</td>\n",
       "    </tr>\n",
       "    <tr>\n",
       "      <th>2</th>\n",
       "      <td>HAMTEST_0000002</td>\n",
       "      <td>ISIC_0034526</td>\n",
       "      <td>bkl</td>\n",
       "      <td>histo</td>\n",
       "      <td>70.0</td>\n",
       "      <td>male</td>\n",
       "      <td>back</td>\n",
       "      <td>rosendahl</td>\n",
       "    </tr>\n",
       "    <tr>\n",
       "      <th>3</th>\n",
       "      <td>HAMTEST_0000003</td>\n",
       "      <td>ISIC_0034527</td>\n",
       "      <td>nv</td>\n",
       "      <td>histo</td>\n",
       "      <td>35.0</td>\n",
       "      <td>male</td>\n",
       "      <td>trunk</td>\n",
       "      <td>vienna_dias</td>\n",
       "    </tr>\n",
       "    <tr>\n",
       "      <th>4</th>\n",
       "      <td>HAMTEST_0000004</td>\n",
       "      <td>ISIC_0034528</td>\n",
       "      <td>nv</td>\n",
       "      <td>follow_up</td>\n",
       "      <td>75.0</td>\n",
       "      <td>female</td>\n",
       "      <td>trunk</td>\n",
       "      <td>vidir_molemax</td>\n",
       "    </tr>\n",
       "  </tbody>\n",
       "</table>\n",
       "</div>"
      ],
      "text/plain": [
       "         lesion_id      image_id   dx    dx_type   age     sex localization  \\\n",
       "0  HAMTEST_0000000  ISIC_0034524   nv  follow_up  40.0  female         back   \n",
       "1  HAMTEST_0000001  ISIC_0034525   nv      histo  70.0    male      abdomen   \n",
       "2  HAMTEST_0000002  ISIC_0034526  bkl      histo  70.0    male         back   \n",
       "3  HAMTEST_0000003  ISIC_0034527   nv      histo  35.0    male        trunk   \n",
       "4  HAMTEST_0000004  ISIC_0034528   nv  follow_up  75.0  female        trunk   \n",
       "\n",
       "         dataset  \n",
       "0  vidir_molemax  \n",
       "1      rosendahl  \n",
       "2      rosendahl  \n",
       "3    vienna_dias  \n",
       "4  vidir_molemax  "
      ]
     },
     "execution_count": 17,
     "metadata": {},
     "output_type": "execute_result"
    }
   ],
   "source": [
    "GT = pd.read_csv(os.path.join(file_path,\"ISIC2018_Task3_Test_GroundTruth.csv\"))\n",
    "GT.head()"
   ]
  },
  {
   "cell_type": "code",
   "execution_count": 78,
   "id": "35ceb696",
   "metadata": {
    "scrolled": true
   },
   "outputs": [
    {
     "data": {
      "text/html": [
       "<div>\n",
       "<style scoped>\n",
       "    .dataframe tbody tr th:only-of-type {\n",
       "        vertical-align: middle;\n",
       "    }\n",
       "\n",
       "    .dataframe tbody tr th {\n",
       "        vertical-align: top;\n",
       "    }\n",
       "\n",
       "    .dataframe thead th {\n",
       "        text-align: right;\n",
       "    }\n",
       "</style>\n",
       "<table border=\"1\" class=\"dataframe\">\n",
       "  <thead>\n",
       "    <tr style=\"text-align: right;\">\n",
       "      <th></th>\n",
       "      <th>lesion_id</th>\n",
       "      <th>image_id</th>\n",
       "      <th>dx</th>\n",
       "      <th>dx_type</th>\n",
       "      <th>age</th>\n",
       "      <th>sex</th>\n",
       "      <th>localization</th>\n",
       "      <th>dataset</th>\n",
       "      <th>image_name</th>\n",
       "      <th>mask_name</th>\n",
       "    </tr>\n",
       "  </thead>\n",
       "  <tbody>\n",
       "    <tr>\n",
       "      <th>0</th>\n",
       "      <td>HAM_0000118</td>\n",
       "      <td>ISIC_0027419</td>\n",
       "      <td>bkl</td>\n",
       "      <td>histo</td>\n",
       "      <td>80.0</td>\n",
       "      <td>male</td>\n",
       "      <td>scalp</td>\n",
       "      <td>vidir_modern</td>\n",
       "      <td>ISIC_0027419.jpg</td>\n",
       "      <td>ISIC_0027419_segmentation.png</td>\n",
       "    </tr>\n",
       "    <tr>\n",
       "      <th>1</th>\n",
       "      <td>HAM_0000118</td>\n",
       "      <td>ISIC_0025030</td>\n",
       "      <td>bkl</td>\n",
       "      <td>histo</td>\n",
       "      <td>80.0</td>\n",
       "      <td>male</td>\n",
       "      <td>scalp</td>\n",
       "      <td>vidir_modern</td>\n",
       "      <td>ISIC_0025030.jpg</td>\n",
       "      <td>ISIC_0025030_segmentation.png</td>\n",
       "    </tr>\n",
       "    <tr>\n",
       "      <th>2</th>\n",
       "      <td>HAM_0002730</td>\n",
       "      <td>ISIC_0026769</td>\n",
       "      <td>bkl</td>\n",
       "      <td>histo</td>\n",
       "      <td>80.0</td>\n",
       "      <td>male</td>\n",
       "      <td>scalp</td>\n",
       "      <td>vidir_modern</td>\n",
       "      <td>ISIC_0026769.jpg</td>\n",
       "      <td>ISIC_0026769_segmentation.png</td>\n",
       "    </tr>\n",
       "    <tr>\n",
       "      <th>3</th>\n",
       "      <td>HAM_0002730</td>\n",
       "      <td>ISIC_0025661</td>\n",
       "      <td>bkl</td>\n",
       "      <td>histo</td>\n",
       "      <td>80.0</td>\n",
       "      <td>male</td>\n",
       "      <td>scalp</td>\n",
       "      <td>vidir_modern</td>\n",
       "      <td>ISIC_0025661.jpg</td>\n",
       "      <td>ISIC_0025661_segmentation.png</td>\n",
       "    </tr>\n",
       "    <tr>\n",
       "      <th>4</th>\n",
       "      <td>HAM_0001466</td>\n",
       "      <td>ISIC_0031633</td>\n",
       "      <td>bkl</td>\n",
       "      <td>histo</td>\n",
       "      <td>75.0</td>\n",
       "      <td>male</td>\n",
       "      <td>ear</td>\n",
       "      <td>vidir_modern</td>\n",
       "      <td>ISIC_0031633.jpg</td>\n",
       "      <td>ISIC_0031633_segmentation.png</td>\n",
       "    </tr>\n",
       "  </tbody>\n",
       "</table>\n",
       "</div>"
      ],
      "text/plain": [
       "     lesion_id      image_id   dx dx_type   age   sex localization  \\\n",
       "0  HAM_0000118  ISIC_0027419  bkl   histo  80.0  male        scalp   \n",
       "1  HAM_0000118  ISIC_0025030  bkl   histo  80.0  male        scalp   \n",
       "2  HAM_0002730  ISIC_0026769  bkl   histo  80.0  male        scalp   \n",
       "3  HAM_0002730  ISIC_0025661  bkl   histo  80.0  male        scalp   \n",
       "4  HAM_0001466  ISIC_0031633  bkl   histo  75.0  male          ear   \n",
       "\n",
       "        dataset        image_name                      mask_name  \n",
       "0  vidir_modern  ISIC_0027419.jpg  ISIC_0027419_segmentation.png  \n",
       "1  vidir_modern  ISIC_0025030.jpg  ISIC_0025030_segmentation.png  \n",
       "2  vidir_modern  ISIC_0026769.jpg  ISIC_0026769_segmentation.png  \n",
       "3  vidir_modern  ISIC_0025661.jpg  ISIC_0025661_segmentation.png  \n",
       "4  vidir_modern  ISIC_0031633.jpg  ISIC_0031633_segmentation.png  "
      ]
     },
     "execution_count": 78,
     "metadata": {},
     "output_type": "execute_result"
    }
   ],
   "source": [
    "MD = pd.read_csv(os.path.join(file_path,\"HAM10000_metadata\"))\n",
    "MD[\"image_name\"]=MD[\"image_id\"]+\".jpg\"\n",
    "MD[\"mask_name\"] = MD[\"image_id\"]+\"_segmentation.png\"\n",
    "MD.head()"
   ]
  },
  {
   "cell_type": "code",
   "execution_count": 38,
   "id": "e67fadb6",
   "metadata": {
    "scrolled": false
   },
   "outputs": [
    {
     "name": "stdout",
     "output_type": "stream",
     "text": [
      "7470\n",
      "<class 'pandas.core.frame.DataFrame'>\n",
      "RangeIndex: 10015 entries, 0 to 10014\n",
      "Data columns (total 10 columns):\n",
      " #   Column        Non-Null Count  Dtype  \n",
      "---  ------        --------------  -----  \n",
      " 0   lesion_id     10015 non-null  object \n",
      " 1   image_id      10015 non-null  object \n",
      " 2   dx            10015 non-null  object \n",
      " 3   dx_type       10015 non-null  object \n",
      " 4   age           9958 non-null   float64\n",
      " 5   sex           10015 non-null  object \n",
      " 6   localization  10015 non-null  object \n",
      " 7   dataset       10015 non-null  object \n",
      " 8   image_name    10015 non-null  object \n",
      " 9   mask_name     10015 non-null  object \n",
      "dtypes: float64(1), object(9)\n",
      "memory usage: 782.5+ KB\n"
     ]
    }
   ],
   "source": [
    "print(len(MD[\"lesion_id\"].unique()))\n",
    "MD.info()"
   ]
  },
  {
   "cell_type": "code",
   "execution_count": 39,
   "id": "5d893ba4",
   "metadata": {},
   "outputs": [
    {
     "name": "stdout",
     "output_type": "stream",
     "text": [
      "['bkl' 'nv' 'df' 'mel' 'vasc' 'bcc' 'akiec']\n"
     ]
    }
   ],
   "source": [
    "print(MD[\"dx\"].unique())"
   ]
  },
  {
   "cell_type": "markdown",
   "id": "cba7acce",
   "metadata": {},
   "source": [
    "Actinic keratoses and intraepithelial carcinoma / Bowen's disease (**akiec**), basal cell carcinoma (**bcc**), benign keratosis-like lesions (solar lentigines / seborrheic keratoses and lichen-planus like keratoses, **bkl**), dermatofibroma (**df**), melanoma (**mel**), melanocytic nevi (**nv**) and vascular lesions (angiomas, angiokeratomas, pyogenic granulomas and hemorrhage, **vasc**)."
   ]
  },
  {
   "cell_type": "code",
   "execution_count": 42,
   "id": "13fb4877",
   "metadata": {},
   "outputs": [
    {
     "name": "stdout",
     "output_type": "stream",
     "text": [
      "bkl 1099\n",
      "nv 6705\n",
      "df 115\n",
      "mel 1113\n",
      "vasc 142\n",
      "bcc 514\n",
      "akiec 327\n"
     ]
    }
   ],
   "source": [
    "temp = list(MD[\"dx\"])\n",
    "for label in MD[\"dx\"].unique():\n",
    "    print(label,temp.count(label))\n",
    "    \n",
    "del temp"
   ]
  },
  {
   "cell_type": "code",
   "execution_count": 149,
   "id": "16ab32ec",
   "metadata": {
    "scrolled": true
   },
   "outputs": [
    {
     "data": {
      "text/plain": [
       "{'bkl': 0, 'nv': 1, 'df': 2, 'mel': 3, 'vasc': 4, 'bcc': 5, 'akiec': 6}"
      ]
     },
     "execution_count": 149,
     "metadata": {},
     "output_type": "execute_result"
    }
   ],
   "source": [
    "# class_id generation\n",
    "dict_cat = {label:int(i) for i,label in enumerate(MD[\"dx\"].unique())}\n",
    "dict_cat"
   ]
  },
  {
   "cell_type": "code",
   "execution_count": 44,
   "id": "1690f094",
   "metadata": {},
   "outputs": [],
   "source": [
    "import cv2"
   ]
  },
  {
   "cell_type": "code",
   "execution_count": 27,
   "id": "8db67b59",
   "metadata": {},
   "outputs": [
    {
     "name": "stdout",
     "output_type": "stream",
     "text": [
      "10015\n",
      "1512\n"
     ]
    }
   ],
   "source": [
    "print(len(MD))\n",
    "print(len(GT))"
   ]
  },
  {
   "cell_type": "code",
   "execution_count": 15,
   "id": "67e64cc6",
   "metadata": {},
   "outputs": [
    {
     "name": "stdout",
     "output_type": "stream",
     "text": [
      "10015\n"
     ]
    }
   ],
   "source": [
    "list_images = os.listdir(file_path+\"HAM10000_images_part_1\")+os.listdir(file_path+\"HAM10000_images_part_2\")\n",
    "print(len(list_images))"
   ]
  },
  {
   "cell_type": "code",
   "execution_count": 25,
   "id": "5cbc1f3e",
   "metadata": {},
   "outputs": [
    {
     "data": {
      "text/plain": [
       "True"
      ]
     },
     "execution_count": 25,
     "metadata": {},
     "output_type": "execute_result"
    }
   ],
   "source": [
    "all(image in list(MD[\"image_name\"]) for image in list_images)"
   ]
  },
  {
   "cell_type": "code",
   "execution_count": 45,
   "id": "5240339a",
   "metadata": {
    "scrolled": true
   },
   "outputs": [
    {
     "data": {
      "text/plain": [
       "True"
      ]
     },
     "execution_count": 45,
     "metadata": {},
     "output_type": "execute_result"
    }
   ],
   "source": [
    "mask_path = \"/mnt/data/dataverse_files/\" + 2*\"HAM10000_segmentations_lesion_tschandl/\"\n",
    "all(mask in list(MD[\"mask_name\"]) for mask in os.listdir(mask_path))"
   ]
  },
  {
   "cell_type": "code",
   "execution_count": 79,
   "id": "a719ca38",
   "metadata": {
    "scrolled": true
   },
   "outputs": [],
   "source": [
    "MD.set_index(\"mask_name\",inplace=True)"
   ]
  },
  {
   "cell_type": "code",
   "execution_count": 80,
   "id": "41ea1626",
   "metadata": {
    "scrolled": true
   },
   "outputs": [
    {
     "data": {
      "text/html": [
       "<div>\n",
       "<style scoped>\n",
       "    .dataframe tbody tr th:only-of-type {\n",
       "        vertical-align: middle;\n",
       "    }\n",
       "\n",
       "    .dataframe tbody tr th {\n",
       "        vertical-align: top;\n",
       "    }\n",
       "\n",
       "    .dataframe thead th {\n",
       "        text-align: right;\n",
       "    }\n",
       "</style>\n",
       "<table border=\"1\" class=\"dataframe\">\n",
       "  <thead>\n",
       "    <tr style=\"text-align: right;\">\n",
       "      <th></th>\n",
       "      <th>lesion_id</th>\n",
       "      <th>image_id</th>\n",
       "      <th>dx</th>\n",
       "      <th>dx_type</th>\n",
       "      <th>age</th>\n",
       "      <th>sex</th>\n",
       "      <th>localization</th>\n",
       "      <th>dataset</th>\n",
       "      <th>image_name</th>\n",
       "    </tr>\n",
       "    <tr>\n",
       "      <th>mask_name</th>\n",
       "      <th></th>\n",
       "      <th></th>\n",
       "      <th></th>\n",
       "      <th></th>\n",
       "      <th></th>\n",
       "      <th></th>\n",
       "      <th></th>\n",
       "      <th></th>\n",
       "      <th></th>\n",
       "    </tr>\n",
       "  </thead>\n",
       "  <tbody>\n",
       "    <tr>\n",
       "      <th>ISIC_0027419_segmentation.png</th>\n",
       "      <td>HAM_0000118</td>\n",
       "      <td>ISIC_0027419</td>\n",
       "      <td>bkl</td>\n",
       "      <td>histo</td>\n",
       "      <td>80.0</td>\n",
       "      <td>male</td>\n",
       "      <td>scalp</td>\n",
       "      <td>vidir_modern</td>\n",
       "      <td>ISIC_0027419.jpg</td>\n",
       "    </tr>\n",
       "    <tr>\n",
       "      <th>ISIC_0025030_segmentation.png</th>\n",
       "      <td>HAM_0000118</td>\n",
       "      <td>ISIC_0025030</td>\n",
       "      <td>bkl</td>\n",
       "      <td>histo</td>\n",
       "      <td>80.0</td>\n",
       "      <td>male</td>\n",
       "      <td>scalp</td>\n",
       "      <td>vidir_modern</td>\n",
       "      <td>ISIC_0025030.jpg</td>\n",
       "    </tr>\n",
       "    <tr>\n",
       "      <th>ISIC_0026769_segmentation.png</th>\n",
       "      <td>HAM_0002730</td>\n",
       "      <td>ISIC_0026769</td>\n",
       "      <td>bkl</td>\n",
       "      <td>histo</td>\n",
       "      <td>80.0</td>\n",
       "      <td>male</td>\n",
       "      <td>scalp</td>\n",
       "      <td>vidir_modern</td>\n",
       "      <td>ISIC_0026769.jpg</td>\n",
       "    </tr>\n",
       "    <tr>\n",
       "      <th>ISIC_0025661_segmentation.png</th>\n",
       "      <td>HAM_0002730</td>\n",
       "      <td>ISIC_0025661</td>\n",
       "      <td>bkl</td>\n",
       "      <td>histo</td>\n",
       "      <td>80.0</td>\n",
       "      <td>male</td>\n",
       "      <td>scalp</td>\n",
       "      <td>vidir_modern</td>\n",
       "      <td>ISIC_0025661.jpg</td>\n",
       "    </tr>\n",
       "    <tr>\n",
       "      <th>ISIC_0031633_segmentation.png</th>\n",
       "      <td>HAM_0001466</td>\n",
       "      <td>ISIC_0031633</td>\n",
       "      <td>bkl</td>\n",
       "      <td>histo</td>\n",
       "      <td>75.0</td>\n",
       "      <td>male</td>\n",
       "      <td>ear</td>\n",
       "      <td>vidir_modern</td>\n",
       "      <td>ISIC_0031633.jpg</td>\n",
       "    </tr>\n",
       "    <tr>\n",
       "      <th>...</th>\n",
       "      <td>...</td>\n",
       "      <td>...</td>\n",
       "      <td>...</td>\n",
       "      <td>...</td>\n",
       "      <td>...</td>\n",
       "      <td>...</td>\n",
       "      <td>...</td>\n",
       "      <td>...</td>\n",
       "      <td>...</td>\n",
       "    </tr>\n",
       "    <tr>\n",
       "      <th>ISIC_0033084_segmentation.png</th>\n",
       "      <td>HAM_0002867</td>\n",
       "      <td>ISIC_0033084</td>\n",
       "      <td>akiec</td>\n",
       "      <td>histo</td>\n",
       "      <td>40.0</td>\n",
       "      <td>male</td>\n",
       "      <td>abdomen</td>\n",
       "      <td>vidir_modern</td>\n",
       "      <td>ISIC_0033084.jpg</td>\n",
       "    </tr>\n",
       "    <tr>\n",
       "      <th>ISIC_0033550_segmentation.png</th>\n",
       "      <td>HAM_0002867</td>\n",
       "      <td>ISIC_0033550</td>\n",
       "      <td>akiec</td>\n",
       "      <td>histo</td>\n",
       "      <td>40.0</td>\n",
       "      <td>male</td>\n",
       "      <td>abdomen</td>\n",
       "      <td>vidir_modern</td>\n",
       "      <td>ISIC_0033550.jpg</td>\n",
       "    </tr>\n",
       "    <tr>\n",
       "      <th>ISIC_0033536_segmentation.png</th>\n",
       "      <td>HAM_0002867</td>\n",
       "      <td>ISIC_0033536</td>\n",
       "      <td>akiec</td>\n",
       "      <td>histo</td>\n",
       "      <td>40.0</td>\n",
       "      <td>male</td>\n",
       "      <td>abdomen</td>\n",
       "      <td>vidir_modern</td>\n",
       "      <td>ISIC_0033536.jpg</td>\n",
       "    </tr>\n",
       "    <tr>\n",
       "      <th>ISIC_0032854_segmentation.png</th>\n",
       "      <td>HAM_0000239</td>\n",
       "      <td>ISIC_0032854</td>\n",
       "      <td>akiec</td>\n",
       "      <td>histo</td>\n",
       "      <td>80.0</td>\n",
       "      <td>male</td>\n",
       "      <td>face</td>\n",
       "      <td>vidir_modern</td>\n",
       "      <td>ISIC_0032854.jpg</td>\n",
       "    </tr>\n",
       "    <tr>\n",
       "      <th>ISIC_0032258_segmentation.png</th>\n",
       "      <td>HAM_0003521</td>\n",
       "      <td>ISIC_0032258</td>\n",
       "      <td>mel</td>\n",
       "      <td>histo</td>\n",
       "      <td>70.0</td>\n",
       "      <td>female</td>\n",
       "      <td>back</td>\n",
       "      <td>vidir_modern</td>\n",
       "      <td>ISIC_0032258.jpg</td>\n",
       "    </tr>\n",
       "  </tbody>\n",
       "</table>\n",
       "<p>10015 rows × 9 columns</p>\n",
       "</div>"
      ],
      "text/plain": [
       "                                 lesion_id      image_id     dx dx_type   age  \\\n",
       "mask_name                                                                       \n",
       "ISIC_0027419_segmentation.png  HAM_0000118  ISIC_0027419    bkl   histo  80.0   \n",
       "ISIC_0025030_segmentation.png  HAM_0000118  ISIC_0025030    bkl   histo  80.0   \n",
       "ISIC_0026769_segmentation.png  HAM_0002730  ISIC_0026769    bkl   histo  80.0   \n",
       "ISIC_0025661_segmentation.png  HAM_0002730  ISIC_0025661    bkl   histo  80.0   \n",
       "ISIC_0031633_segmentation.png  HAM_0001466  ISIC_0031633    bkl   histo  75.0   \n",
       "...                                    ...           ...    ...     ...   ...   \n",
       "ISIC_0033084_segmentation.png  HAM_0002867  ISIC_0033084  akiec   histo  40.0   \n",
       "ISIC_0033550_segmentation.png  HAM_0002867  ISIC_0033550  akiec   histo  40.0   \n",
       "ISIC_0033536_segmentation.png  HAM_0002867  ISIC_0033536  akiec   histo  40.0   \n",
       "ISIC_0032854_segmentation.png  HAM_0000239  ISIC_0032854  akiec   histo  80.0   \n",
       "ISIC_0032258_segmentation.png  HAM_0003521  ISIC_0032258    mel   histo  70.0   \n",
       "\n",
       "                                  sex localization       dataset  \\\n",
       "mask_name                                                          \n",
       "ISIC_0027419_segmentation.png    male        scalp  vidir_modern   \n",
       "ISIC_0025030_segmentation.png    male        scalp  vidir_modern   \n",
       "ISIC_0026769_segmentation.png    male        scalp  vidir_modern   \n",
       "ISIC_0025661_segmentation.png    male        scalp  vidir_modern   \n",
       "ISIC_0031633_segmentation.png    male          ear  vidir_modern   \n",
       "...                               ...          ...           ...   \n",
       "ISIC_0033084_segmentation.png    male      abdomen  vidir_modern   \n",
       "ISIC_0033550_segmentation.png    male      abdomen  vidir_modern   \n",
       "ISIC_0033536_segmentation.png    male      abdomen  vidir_modern   \n",
       "ISIC_0032854_segmentation.png    male         face  vidir_modern   \n",
       "ISIC_0032258_segmentation.png  female         back  vidir_modern   \n",
       "\n",
       "                                     image_name  \n",
       "mask_name                                        \n",
       "ISIC_0027419_segmentation.png  ISIC_0027419.jpg  \n",
       "ISIC_0025030_segmentation.png  ISIC_0025030.jpg  \n",
       "ISIC_0026769_segmentation.png  ISIC_0026769.jpg  \n",
       "ISIC_0025661_segmentation.png  ISIC_0025661.jpg  \n",
       "ISIC_0031633_segmentation.png  ISIC_0031633.jpg  \n",
       "...                                         ...  \n",
       "ISIC_0033084_segmentation.png  ISIC_0033084.jpg  \n",
       "ISIC_0033550_segmentation.png  ISIC_0033550.jpg  \n",
       "ISIC_0033536_segmentation.png  ISIC_0033536.jpg  \n",
       "ISIC_0032854_segmentation.png  ISIC_0032854.jpg  \n",
       "ISIC_0032258_segmentation.png  ISIC_0032258.jpg  \n",
       "\n",
       "[10015 rows x 9 columns]"
      ]
     },
     "execution_count": 80,
     "metadata": {},
     "output_type": "execute_result"
    }
   ],
   "source": [
    "MD"
   ]
  },
  {
   "cell_type": "code",
   "execution_count": 220,
   "id": "24262513",
   "metadata": {},
   "outputs": [],
   "source": [
    "from itertools import groupby\n",
    "\n",
    "def binary_mask_to_rle(binary_mask):\n",
    "    rle = {'counts': [], 'size': list(binary_mask.shape)}\n",
    "    counts = rle.get('counts')\n",
    "    for i, (value, elements) in enumerate(groupby(binary_mask.ravel(order='F'))):\n",
    "        if i == 0 and value == 1:\n",
    "            counts.append(0)\n",
    "        counts.append(len(list(elements)))\n",
    "    return rle"
   ]
  },
  {
   "cell_type": "code",
   "execution_count": 224,
   "id": "7a45e1cf",
   "metadata": {
    "scrolled": true
   },
   "outputs": [
    {
     "name": "stderr",
     "output_type": "stream",
     "text": [
      "100%|█████████████████████████████████████████████████████████████████████████████████████████████████████████████████████████████████████████████████████████████████████████████████████████████████████████████████████████████████████| 10015/10015 [06:12<00:00, 26.87it/s]"
     ]
    },
    {
     "name": "stdout",
     "output_type": "stream",
     "text": [
      "Anot done\n"
     ]
    },
    {
     "name": "stderr",
     "output_type": "stream",
     "text": [
      "\n"
     ]
    }
   ],
   "source": [
    "import cv2\n",
    "import numpy as np\n",
    "from pycocotools import mask as maskUtils\n",
    "\n",
    "from tqdm import tqdm\n",
    "\n",
    "dict_mask = {mask_name:None for mask_name in os.listdir(mask_path)}\n",
    "\n",
    "for mask_name in tqdm(dict_mask.keys()):\n",
    "    mask = cv2.imread(mask_path+mask_name)\n",
    "    mask = cv2.cvtColor(mask, cv2.COLOR_BGR2GRAY)\n",
    "\n",
    "    area_ = float(np.sum(mask//255))\n",
    "\n",
    "    coords = np.where(mask==255)\n",
    "    \n",
    "    x, xp, y, yp = np.min(coords[1]), np.max(coords[1]), np.min(coords[0]), np.max(coords[0])\n",
    "\n",
    "    x,y,w,h = x,y,xp-x,yp-y\n",
    "\n",
    "    seg = binary_mask_to_rle(mask)\n",
    "    \n",
    "    \n",
    "    \n",
    "    \n",
    "    \n",
    "    \n",
    "    id_ = (mask_name.split(\"_\")[1])\n",
    "    \n",
    "    cat_ = MD.loc[mask_name][\"dx\"]\n",
    "\n",
    "    bbox_ = list(map(int,[x,y,w,h]))\n",
    "    \n",
    "    \n",
    "    \n",
    "    dict_mask[mask_name] = {\"id\":int(id_),\n",
    "                            \"image_id\":(id_),\n",
    "                            \"file_name\":id_+\".jpg\",\n",
    "                            \"category_id\":dict_cat[cat_],\n",
    "                            \"segmentation\":seg,\n",
    "                            \"area\":area_,\n",
    "                            \"bbox\":bbox_\n",
    "                           }\n",
    "    \n",
    "    \n",
    "    \n",
    "\n",
    "print(\"Anot done\")"
   ]
  },
  {
   "cell_type": "code",
   "execution_count": 225,
   "id": "c33af625",
   "metadata": {
    "scrolled": false
   },
   "outputs": [
    {
     "name": "stdout",
     "output_type": "stream",
     "text": [
      "{'id': 32749, 'image_id': '0032749', 'file_name': '0032749.jpg', 'category_id': 1, 'segmentation': {'counts': [20851, 4, 433, 23, 421, 30, 418, 39, 408, 52, 396, 59, 389, 63, 384, 75, 374, 78, 371, 81, 368, 85, 364, 90, 359, 95, 355, 99, 350, 102, 347, 104, 345, 108, 342, 109, 341, 110, 339, 111, 339, 113, 335, 116, 334, 118, 330, 121, 327, 125, 323, 128, 318, 133, 315, 137, 312, 139, 309, 142, 306, 144, 305, 146, 303, 147, 302, 149, 300, 151, 298, 153, 295, 157, 292, 160, 289, 163, 286, 167, 283, 168, 281, 171, 278, 173, 276, 175, 274, 176, 273, 178, 271, 180, 269, 181, 268, 183, 266, 185, 265, 185, 264, 187, 262, 189, 260, 190, 260, 190, 259, 193, 256, 195, 254, 196, 254, 197, 252, 199, 250, 201, 248, 203, 246, 205, 244, 207, 242, 210, 240, 211, 238, 213, 236, 217, 232, 220, 230, 222, 228, 223, 226, 226, 224, 227, 222, 229, 221, 231, 219, 232, 218, 233, 216, 235, 215, 236, 213, 238, 212, 239, 211, 240, 210, 240, 210, 241, 208, 243, 207, 243, 207, 243, 207, 243, 206, 244, 206, 245, 205, 245, 205, 246, 204, 247, 203, 247, 203, 247, 203, 248, 202, 248, 202, 248, 202, 248, 202, 248, 202, 248, 202, 249, 200, 250, 200, 250, 200, 250, 200, 250, 200, 250, 200, 250, 200, 251, 199, 251, 199, 251, 199, 251, 199, 252, 198, 252, 198, 252, 198, 252, 198, 252, 198, 253, 197, 253, 197, 254, 196, 254, 196, 254, 196, 255, 195, 255, 195, 256, 194, 256, 194, 256, 194, 256, 194, 256, 194, 257, 193, 257, 193, 258, 192, 259, 191, 259, 191, 260, 190, 260, 190, 261, 189, 262, 188, 263, 186, 264, 186, 265, 185, 265, 185, 266, 184, 266, 184, 267, 183, 268, 181, 269, 181, 269, 181, 270, 180, 270, 180, 271, 178, 274, 176, 275, 175, 276, 174, 278, 171, 280, 170, 281, 169, 282, 168, 284, 166, 285, 165, 286, 164, 287, 163, 288, 162, 288, 162, 288, 161, 290, 160, 290, 160, 291, 159, 291, 159, 292, 158, 293, 157, 293, 157, 294, 156, 294, 156, 295, 155, 295, 155, 295, 155, 296, 154, 296, 154, 296, 154, 297, 153, 297, 153, 297, 153, 297, 153, 297, 153, 297, 153, 297, 153, 297, 152, 298, 152, 299, 151, 300, 150, 300, 150, 300, 150, 301, 149, 302, 148, 303, 147, 304, 146, 305, 145, 306, 144, 307, 143, 308, 142, 309, 142, 308, 142, 309, 141, 310, 141, 310, 140, 311, 140, 311, 139, 313, 138, 313, 137, 314, 137, 314, 136, 314, 137, 314, 136, 314, 137, 314, 136, 314, 137, 314, 136, 315, 136, 314, 136, 315, 136, 314, 137, 313, 137, 313, 138, 312, 138, 312, 139, 312, 138, 312, 139, 311, 140, 311, 140, 310, 141, 309, 141, 310, 141, 309, 142, 308, 143, 307, 144, 307, 143, 307, 144, 307, 143, 307, 144, 306, 145, 306, 144, 307, 144, 307, 144, 306, 144, 307, 143, 308, 143, 308, 143, 308, 143, 307, 144, 308, 143, 308, 142, 308, 142, 309, 142, 309, 141, 309, 142, 308, 143, 307, 144, 307, 144, 306, 144, 306, 145, 306, 144, 306, 145, 306, 144, 306, 145, 305, 145, 306, 145, 305, 145, 305, 145, 305, 146, 305, 146, 304, 147, 303, 148, 302, 148, 302, 149, 302, 149, 301, 151, 299, 152, 298, 153, 297, 154, 295, 156, 294, 158, 292, 159, 291, 160, 290, 161, 288, 163, 287, 164, 286, 165, 285, 166, 283, 168, 282, 170, 279, 172, 277, 174, 276, 176, 273, 179, 271, 181, 268, 184, 266, 185, 264, 188, 262, 190, 260, 192, 257, 197, 253, 199, 250, 202, 248, 204, 246, 207, 243, 209, 240, 211, 239, 214, 235, 216, 234, 219, 230, 222, 227, 224, 226, 226, 223, 228, 222, 230, 219, 233, 216, 236, 213, 238, 212, 239, 210, 243, 207, 245, 205, 245, 204, 247, 203, 247, 202, 249, 200, 250, 200, 251, 199, 252, 198, 253, 196, 255, 195, 255, 195, 256, 194, 256, 194, 257, 193, 258, 191, 260, 190, 261, 189, 262, 188, 263, 187, 265, 185, 266, 183, 268, 182, 270, 180, 272, 178, 273, 176, 276, 171, 283, 166, 285, 164, 288, 160, 292, 157, 294, 154, 300, 149, 302, 147, 305, 144, 307, 141, 310, 139, 313, 135, 317, 131, 321, 128, 324, 124, 329, 120, 331, 117, 335, 114, 338, 108, 343, 83, 369, 77, 374, 75, 376, 72, 380, 69, 383, 65, 386, 63, 388, 59, 393, 53, 398, 49, 403, 46, 407, 40, 411, 37, 417, 31, 422, 27, 425, 22, 430, 19, 434, 14, 76675], 'size': [450, 600]}, 'area': 88571.0, 'bbox': [46, 45, 383, 346]}\n"
     ]
    }
   ],
   "source": [
    "print(dict_mask.get(list(dict_mask.keys())[0]))"
   ]
  },
  {
   "cell_type": "code",
   "execution_count": 226,
   "id": "cdd12a1f",
   "metadata": {
    "scrolled": false
   },
   "outputs": [
    {
     "data": {
      "text/plain": [
       "[{'id': 0, 'name': 'bkl'},\n",
       " {'id': 1, 'name': 'nv'},\n",
       " {'id': 2, 'name': 'df'},\n",
       " {'id': 3, 'name': 'mel'},\n",
       " {'id': 4, 'name': 'vasc'},\n",
       " {'id': 5, 'name': 'bcc'},\n",
       " {'id': 6, 'name': 'akiec'}]"
      ]
     },
     "execution_count": 226,
     "metadata": {},
     "output_type": "execute_result"
    }
   ],
   "source": [
    "# categories\n",
    "\n",
    "cat = [\n",
    "    {\"id\":dict_cat[key],\n",
    "    \"name\":key}\n",
    "    for key in dict_cat.keys()\n",
    "]\n",
    "cat"
   ]
  },
  {
   "cell_type": "code",
   "execution_count": 227,
   "id": "08a18180",
   "metadata": {
    "scrolled": false
   },
   "outputs": [
    {
     "name": "stdout",
     "output_type": "stream",
     "text": [
      "10015\n"
     ]
    }
   ],
   "source": [
    "annotations_list = list(dict_mask.values())\n",
    "print(size := len(annotations_list))"
   ]
  },
  {
   "cell_type": "code",
   "execution_count": 228,
   "id": "8c5fd767",
   "metadata": {},
   "outputs": [],
   "source": [
    "import random as rd\n",
    "rd.shuffle(annotations_list)\n",
    "\n",
    "train_annot = annotations_list[:int(0.8*size)]\n",
    "val_annot   = annotations_list[int(0.8*size):]"
   ]
  },
  {
   "cell_type": "code",
   "execution_count": 229,
   "id": "cc4c8e3a",
   "metadata": {},
   "outputs": [
    {
     "data": {
      "text/plain": [
       "False"
      ]
     },
     "execution_count": 229,
     "metadata": {},
     "output_type": "execute_result"
    }
   ],
   "source": [
    "any(val in train_annot for val in val_annot)"
   ]
  },
  {
   "cell_type": "code",
   "execution_count": 230,
   "id": "dc574e1d",
   "metadata": {},
   "outputs": [],
   "source": [
    "import json\n",
    "with open(file_path+\"train_anot.json\",\"w\") as file:\n",
    "    json.dump(\n",
    "        {\n",
    "            \"categories\":cat,\n",
    "            \"annotations\":train_annot\n",
    "        },\n",
    "        file,\n",
    "        indent=4\n",
    "    )"
   ]
  },
  {
   "cell_type": "code",
   "execution_count": 231,
   "id": "266ed908",
   "metadata": {},
   "outputs": [],
   "source": [
    "with open(file_path+\"val_anot.json\",\"w\") as file:\n",
    "    json.dump(\n",
    "        {\n",
    "            \"categories\":cat,\n",
    "            \"annotations\":val_annot\n",
    "        },\n",
    "        file,\n",
    "        indent=4\n",
    "    )"
   ]
  },
  {
   "cell_type": "code",
   "execution_count": null,
   "id": "be84ad8d",
   "metadata": {},
   "outputs": [],
   "source": [
    "pwd"
   ]
  },
  {
   "cell_type": "code",
   "execution_count": 253,
   "id": "860561c3",
   "metadata": {},
   "outputs": [
    {
     "name": "stdout",
     "output_type": "stream",
     "text": [
      "/mnt/data/dataverse_files/HAM10000_train\n"
     ]
    }
   ],
   "source": [
    "cd /mnt/data/dataverse_files/HAM10000_train/"
   ]
  },
  {
   "cell_type": "code",
   "execution_count": 255,
   "id": "9c56c026",
   "metadata": {},
   "outputs": [],
   "source": [
    "val_names = [an[\"file_name\"] for an in val_annot]\n",
    "\n",
    "for file in val_names:\n",
    "    FILE_NAME = \"ISIC_\"+file\n",
    "    !mv $FILE_NAME \"/mnt/data/dataverse_files/HAM10000_val/\"\n"
   ]
  },
  {
   "cell_type": "code",
   "execution_count": 258,
   "id": "4514b5d5",
   "metadata": {},
   "outputs": [
    {
     "name": "stdout",
     "output_type": "stream",
     "text": [
      "/mnt/data/dataverse_files\n"
     ]
    }
   ],
   "source": [
    "for folder in os.listdir():\n",
    "    print(folder,le)"
   ]
  }
 ],
 "metadata": {
  "kernelspec": {
   "display_name": "Python 3 (ipykernel)",
   "language": "python",
   "name": "python3"
  },
  "language_info": {
   "codemirror_mode": {
    "name": "ipython",
    "version": 3
   },
   "file_extension": ".py",
   "mimetype": "text/x-python",
   "name": "python",
   "nbconvert_exporter": "python",
   "pygments_lexer": "ipython3",
   "version": "3.10.7"
  }
 },
 "nbformat": 4,
 "nbformat_minor": 5
}
